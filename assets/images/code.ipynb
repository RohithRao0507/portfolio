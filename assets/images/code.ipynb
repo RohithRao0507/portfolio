{
 "cells": [
  {
   "cell_type": "code",
   "execution_count": 9,
   "metadata": {},
   "outputs": [],
   "source": [
    "from PIL import Image, ImageEnhance\n",
    "def resize_and_enhance_image(input_path, output_path, size=(600, 450), enhancement_factor=1.5):\n",
    "    with Image.open(input_path) as img:\n",
    "        # Resize the image\n",
    "        resized_img = img.resize(size, Image.Resampling.LANCZOS)\n",
    "\n",
    "        # Enhance the sharpness\n",
    "        enhancer = ImageEnhance.Sharpness(resized_img)\n",
    "        enhanced_img = enhancer.enhance(enhancement_factor)\n",
    "\n",
    "        # Save the enhanced image\n",
    "        enhanced_img.save(output_path)\n",
    "\n",
    "\n",
    "resize_and_enhance_image('hospital-main.png', 'hospital-main2.png')\n"
   ]
  },
  {
   "cell_type": "code",
   "execution_count": 11,
   "metadata": {},
   "outputs": [],
   "source": [
    "from PIL import Image, ImageEnhance\n",
    "def resize_and_enhance_image(input_path, output_path, size=(600, 450), enhancement_factor=1.5):\n",
    "    with Image.open(input_path) as img:\n",
    "        # Resize the image\n",
    "        resized_img = img.resize(size, Image.Resampling.LANCZOS)\n",
    "\n",
    "        # Enhance the sharpness\n",
    "        enhancer = ImageEnhance.Sharpness(resized_img)\n",
    "        enhanced_img = enhancer.enhance(enhancement_factor)\n",
    "\n",
    "        # Save the enhanced image\n",
    "        enhanced_img.save(output_path)\n",
    "\n",
    "\n",
    "resize_and_enhance_image('hospital.png', 'hospital-main.png')\n"
   ]
  },
  {
   "cell_type": "code",
   "execution_count": 8,
   "metadata": {},
   "outputs": [],
   "source": [
    "from PIL import Image, ImageEnhance\n",
    "def resize_and_enhance_image(input_path, output_path, size=(600, 450), enhancement_factor=1.5):\n",
    "    with Image.open(input_path) as img:\n",
    "        # Resize the image\n",
    "        resized_img = img.resize(size, Image.Resampling.LANCZOS)\n",
    "\n",
    "        # Enhance the sharpness\n",
    "        enhancer = ImageEnhance.Sharpness(resized_img)\n",
    "        enhanced_img = enhancer.enhance(enhancement_factor)\n",
    "\n",
    "        # Save the enhanced image\n",
    "        enhanced_img.save(output_path)\n",
    "\n",
    "\n",
    "\n",
    "resize_and_enhance_image('CensorFreeLLM2.png', 'CensorFreeLLM-main2.png')\n"
   ]
  },
  {
   "cell_type": "code",
   "execution_count": 10,
   "metadata": {},
   "outputs": [],
   "source": [
    "from PIL import Image, ImageEnhance\n",
    "def resize_and_enhance_image(input_path, output_path, size=(600, 450), enhancement_factor=1.5):\n",
    "    with Image.open(input_path) as img:\n",
    "        # Resize the image\n",
    "        resized_img = img.resize(size, Image.Resampling.LANCZOS)\n",
    "\n",
    "        # Enhance the sharpness\n",
    "        enhancer = ImageEnhance.Sharpness(resized_img)\n",
    "        enhanced_img = enhancer.enhance(enhancement_factor)\n",
    "\n",
    "        # Save the enhanced image\n",
    "        enhanced_img.save(output_path)\n",
    "\n",
    "\n",
    "\n",
    "resize_and_enhance_image('ai-assistant.png', 'ai-assistant-main.png')\n"
   ]
  },
  {
   "cell_type": "code",
   "execution_count": 5,
   "metadata": {},
   "outputs": [
    {
     "ename": "UnidentifiedImageError",
     "evalue": "cannot identify image file 'main.jpg'",
     "output_type": "error",
     "traceback": [
      "\u001b[0;31m---------------------------------------------------------------------------\u001b[0m",
      "\u001b[0;31mUnidentifiedImageError\u001b[0m                    Traceback (most recent call last)",
      "Cell \u001b[0;32mIn[5], line 16\u001b[0m\n\u001b[1;32m     11\u001b[0m         \u001b[38;5;66;03m# Save the enhanced image\u001b[39;00m\n\u001b[1;32m     12\u001b[0m         enhanced_img\u001b[38;5;241m.\u001b[39msave(output_path)\n\u001b[0;32m---> 16\u001b[0m \u001b[43mresize_and_enhance_image\u001b[49m\u001b[43m(\u001b[49m\u001b[38;5;124;43m'\u001b[39;49m\u001b[38;5;124;43mmain.jpg\u001b[39;49m\u001b[38;5;124;43m'\u001b[39;49m\u001b[43m,\u001b[49m\u001b[43m \u001b[49m\u001b[38;5;124;43m'\u001b[39;49m\u001b[38;5;124;43mmain-main.jpg\u001b[39;49m\u001b[38;5;124;43m'\u001b[39;49m\u001b[43m)\u001b[49m\n",
      "Cell \u001b[0;32mIn[5], line 3\u001b[0m, in \u001b[0;36mresize_and_enhance_image\u001b[0;34m(input_path, output_path, size, enhancement_factor)\u001b[0m\n\u001b[1;32m      2\u001b[0m \u001b[38;5;28;01mdef\u001b[39;00m \u001b[38;5;21mresize_and_enhance_image\u001b[39m(input_path, output_path, size\u001b[38;5;241m=\u001b[39m(\u001b[38;5;241m200\u001b[39m, \u001b[38;5;241m196\u001b[39m), enhancement_factor\u001b[38;5;241m=\u001b[39m\u001b[38;5;241m1.5\u001b[39m):\n\u001b[0;32m----> 3\u001b[0m     \u001b[38;5;28;01mwith\u001b[39;00m \u001b[43mImage\u001b[49m\u001b[38;5;241;43m.\u001b[39;49m\u001b[43mopen\u001b[49m\u001b[43m(\u001b[49m\u001b[43minput_path\u001b[49m\u001b[43m)\u001b[49m \u001b[38;5;28;01mas\u001b[39;00m img:\n\u001b[1;32m      4\u001b[0m         \u001b[38;5;66;03m# Resize the image\u001b[39;00m\n\u001b[1;32m      5\u001b[0m         resized_img \u001b[38;5;241m=\u001b[39m img\u001b[38;5;241m.\u001b[39mresize(size, Image\u001b[38;5;241m.\u001b[39mResampling\u001b[38;5;241m.\u001b[39mLANCZOS)\n\u001b[1;32m      7\u001b[0m         \u001b[38;5;66;03m# Enhance the sharpness\u001b[39;00m\n",
      "File \u001b[0;32m/Library/Frameworks/Python.framework/Versions/3.13/lib/python3.13/site-packages/PIL/Image.py:3532\u001b[0m, in \u001b[0;36mopen\u001b[0;34m(fp, mode, formats)\u001b[0m\n\u001b[1;32m   3530\u001b[0m     warnings\u001b[38;5;241m.\u001b[39mwarn(message)\n\u001b[1;32m   3531\u001b[0m msg \u001b[38;5;241m=\u001b[39m \u001b[38;5;124m\"\u001b[39m\u001b[38;5;124mcannot identify image file \u001b[39m\u001b[38;5;132;01m%r\u001b[39;00m\u001b[38;5;124m\"\u001b[39m \u001b[38;5;241m%\u001b[39m (filename \u001b[38;5;28;01mif\u001b[39;00m filename \u001b[38;5;28;01melse\u001b[39;00m fp)\n\u001b[0;32m-> 3532\u001b[0m \u001b[38;5;28;01mraise\u001b[39;00m UnidentifiedImageError(msg)\n",
      "\u001b[0;31mUnidentifiedImageError\u001b[0m: cannot identify image file 'main.jpg'"
     ]
    }
   ],
   "source": [
    "from PIL import Image, ImageEnhance\n",
    "def resize_and_enhance_image(input_path, output_path, size=(200, 196), enhancement_factor=1.5):\n",
    "    with Image.open(input_path) as img:\n",
    "        # Resize the image\n",
    "        resized_img = img.resize(size, Image.Resampling.LANCZOS)\n",
    "\n",
    "        # Enhance the sharpness\n",
    "        enhancer = ImageEnhance.Sharpness(resized_img)\n",
    "        enhanced_img = enhancer.enhance(enhancement_factor)\n",
    "\n",
    "        # Save the enhanced image\n",
    "        enhanced_img.save(output_path)\n",
    "\n",
    "\n",
    "\n",
    "resize_and_enhance_image('main.jpg', 'main-main.jpg')\n"
   ]
  },
  {
   "cell_type": "code",
   "execution_count": 4,
   "metadata": {},
   "outputs": [
    {
     "name": "stdout",
     "output_type": "stream",
     "text": [
      "avatar-1.png\n",
      "Rohith.JPG\n",
      "logo-main.png\n",
      "project-1.jpg\n",
      "icon-design.svg\n",
      "election-main.png\n",
      ".DS_Store\n",
      "icon-quote.svg\n",
      "icon-photo.svg\n",
      "project-2.png\n",
      "scuba-diving-icon.svg\n",
      "main.jpg\n",
      "code.ipynb\n",
      "my-avatar.png\n",
      "flower-main.png\n",
      "cloud-computing-icon.svg\n",
      "hospital-main.png\n",
      "ai-assistant-main.png\n",
      "blog-1.jpg\n",
      "data-analytics-icon.svg\n",
      "icon-dev.svg\n",
      "digital-icon.svg\n",
      "CensorFreeLLM-main.png\n",
      "icon-app.svg\n",
      "image.jpg\n"
     ]
    }
   ],
   "source": [
    "import os\n",
    "\n",
    "# Specify the folder path\n",
    "folder_path = '../images'\n",
    "\n",
    "# List all files in the folder\n",
    "files = os.listdir(folder_path)\n",
    "\n",
    "# Print out each file\n",
    "for file in files:\n",
    "    print(file)\n"
   ]
  },
  {
   "cell_type": "code",
   "execution_count": 14,
   "metadata": {},
   "outputs": [],
   "source": [
    "from PIL import Image, ImageEnhance\n",
    "def resize_and_enhance_image(input_path, output_path, size=(600, 450), enhancement_factor=1.5):\n",
    "    with Image.open(input_path) as img:\n",
    "        # Resize the image\n",
    "        resized_img = img.resize(size, Image.Resampling.LANCZOS)\n",
    "\n",
    "        # Enhance the sharpness\n",
    "        enhancer = ImageEnhance.Sharpness(resized_img)\n",
    "        enhanced_img = enhancer.enhance(enhancement_factor)\n",
    "\n",
    "        # Save the enhanced image\n",
    "        enhanced_img.save(output_path)\n",
    "\n",
    "\n",
    "resize_and_enhance_image('election.png', 'election-main.png')\n"
   ]
  }
 ],
 "metadata": {
  "kernelspec": {
   "display_name": "Python 3",
   "language": "python",
   "name": "python3"
  },
  "language_info": {
   "codemirror_mode": {
    "name": "ipython",
    "version": 3
   },
   "file_extension": ".py",
   "mimetype": "text/x-python",
   "name": "python",
   "nbconvert_exporter": "python",
   "pygments_lexer": "ipython3",
   "version": "3.13.0"
  }
 },
 "nbformat": 4,
 "nbformat_minor": 2
}
