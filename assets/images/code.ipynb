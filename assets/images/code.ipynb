{
 "cells": [
  {
   "cell_type": "code",
   "execution_count": 9,
   "metadata": {},
   "outputs": [],
   "source": [
    "from PIL import Image, ImageEnhance\n",
    "def resize_and_enhance_image(input_path, output_path, size=(600, 450), enhancement_factor=1.5):\n",
    "    with Image.open(input_path) as img:\n",
    "        # Resize the image\n",
    "        resized_img = img.resize(size, Image.Resampling.LANCZOS)\n",
    "\n",
    "        # Enhance the sharpness\n",
    "        enhancer = ImageEnhance.Sharpness(resized_img)\n",
    "        enhanced_img = enhancer.enhance(enhancement_factor)\n",
    "\n",
    "        # Save the enhanced image\n",
    "        enhanced_img.save(output_path)\n",
    "\n",
    "\n",
    "resize_and_enhance_image('hospital-main.png', 'hospital-main2.png')\n"
   ]
  },
  {
   "cell_type": "code",
   "execution_count": 11,
   "metadata": {},
   "outputs": [],
   "source": [
    "from PIL import Image, ImageEnhance\n",
    "def resize_and_enhance_image(input_path, output_path, size=(600, 450), enhancement_factor=1.5):\n",
    "    with Image.open(input_path) as img:\n",
    "        # Resize the image\n",
    "        resized_img = img.resize(size, Image.Resampling.LANCZOS)\n",
    "\n",
    "        # Enhance the sharpness\n",
    "        enhancer = ImageEnhance.Sharpness(resized_img)\n",
    "        enhanced_img = enhancer.enhance(enhancement_factor)\n",
    "\n",
    "        # Save the enhanced image\n",
    "        enhanced_img.save(output_path)\n",
    "\n",
    "\n",
    "resize_and_enhance_image('hospital.png', 'hospital-main.png')\n"
   ]
  },
  {
   "cell_type": "code",
   "execution_count": 8,
   "metadata": {},
   "outputs": [],
   "source": [
    "from PIL import Image, ImageEnhance\n",
    "def resize_and_enhance_image(input_path, output_path, size=(600, 450), enhancement_factor=1.5):\n",
    "    with Image.open(input_path) as img:\n",
    "        # Resize the image\n",
    "        resized_img = img.resize(size, Image.Resampling.LANCZOS)\n",
    "\n",
    "        # Enhance the sharpness\n",
    "        enhancer = ImageEnhance.Sharpness(resized_img)\n",
    "        enhanced_img = enhancer.enhance(enhancement_factor)\n",
    "\n",
    "        # Save the enhanced image\n",
    "        enhanced_img.save(output_path)\n",
    "\n",
    "\n",
    "\n",
    "resize_and_enhance_image('CensorFreeLLM2.png', 'CensorFreeLLM-main2.png')\n"
   ]
  },
  {
   "cell_type": "code",
   "execution_count": 10,
   "metadata": {},
   "outputs": [],
   "source": [
    "from PIL import Image, ImageEnhance\n",
    "def resize_and_enhance_image(input_path, output_path, size=(600, 450), enhancement_factor=1.5):\n",
    "    with Image.open(input_path) as img:\n",
    "        # Resize the image\n",
    "        resized_img = img.resize(size, Image.Resampling.LANCZOS)\n",
    "\n",
    "        # Enhance the sharpness\n",
    "        enhancer = ImageEnhance.Sharpness(resized_img)\n",
    "        enhanced_img = enhancer.enhance(enhancement_factor)\n",
    "\n",
    "        # Save the enhanced image\n",
    "        enhanced_img.save(output_path)\n",
    "\n",
    "\n",
    "\n",
    "resize_and_enhance_image('ai-assistant.png', 'ai-assistant-main.png')\n"
   ]
  },
  {
   "cell_type": "code",
   "execution_count": 12,
   "metadata": {},
   "outputs": [],
   "source": [
    "from PIL import Image, ImageEnhance\n",
    "def resize_and_enhance_image(input_path, output_path, size=(600, 450), enhancement_factor=1.5):\n",
    "    with Image.open(input_path) as img:\n",
    "        # Resize the image\n",
    "        resized_img = img.resize(size, Image.Resampling.LANCZOS)\n",
    "\n",
    "        # Enhance the sharpness\n",
    "        enhancer = ImageEnhance.Sharpness(resized_img)\n",
    "        enhanced_img = enhancer.enhance(enhancement_factor)\n",
    "\n",
    "        # Save the enhanced image\n",
    "        enhanced_img.save(output_path)\n",
    "\n",
    "\n",
    "resize_and_enhance_image('flower.png', 'flower-main.png')\n"
   ]
  },
  {
   "cell_type": "code",
   "execution_count": 14,
   "metadata": {},
   "outputs": [],
   "source": [
    "from PIL import Image, ImageEnhance\n",
    "def resize_and_enhance_image(input_path, output_path, size=(600, 450), enhancement_factor=1.5):\n",
    "    with Image.open(input_path) as img:\n",
    "        # Resize the image\n",
    "        resized_img = img.resize(size, Image.Resampling.LANCZOS)\n",
    "\n",
    "        # Enhance the sharpness\n",
    "        enhancer = ImageEnhance.Sharpness(resized_img)\n",
    "        enhanced_img = enhancer.enhance(enhancement_factor)\n",
    "\n",
    "        # Save the enhanced image\n",
    "        enhanced_img.save(output_path)\n",
    "\n",
    "\n",
    "resize_and_enhance_image('election.png', 'election-main.png')\n"
   ]
  }
 ],
 "metadata": {
  "kernelspec": {
   "display_name": "Python 3",
   "language": "python",
   "name": "python3"
  },
  "language_info": {
   "codemirror_mode": {
    "name": "ipython",
    "version": 3
   },
   "file_extension": ".py",
   "mimetype": "text/x-python",
   "name": "python",
   "nbconvert_exporter": "python",
   "pygments_lexer": "ipython3",
   "version": "3.13.0"
  }
 },
 "nbformat": 4,
 "nbformat_minor": 2
}
